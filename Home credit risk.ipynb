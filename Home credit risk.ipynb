{
 "cells": [
  {
   "cell_type": "markdown",
   "metadata": {},
   "source": [
    "# 1- Overview"
   ]
  },
  {
   "cell_type": "markdown",
   "metadata": {},
   "source": [
    "https://www.kaggle.com/c/home-credit-default-risk\n",
    "\n",
    "Many people struggle to get loans due to insufficient or non-existent credit histories. And, unfortunately, this population is often taken advantage of by untrustworthy lenders.\n",
    "\n",
    "Home Credit strives to broaden financial inclusion for the unbanked population by providing a positive and safe borrowing experience. In order to make sure this underserved population has a positive loan experience, Home Credit makes use of a variety of alternative data--including telco and transactional information--to predict their clients' repayment abilities.\n",
    "\n",
    "While Home Credit is currently using various statistical and machine learning methods to make these predictions, they're challenging Kagglers to help them unlock the full potential of their data. Doing so will ensure that clients capable of repayment are not rejected and that loans are given with a principal, maturity, and repayment calendar that will empower their clients to be successful."
   ]
  },
  {
   "cell_type": "markdown",
   "metadata": {},
   "source": [
    "Inspired by some great kernels:\n",
    "- sban: https://www.kaggle.com/shivamb/homecreditrisk-extensive-eda-baseline-0-772\n",
    "- Will Koehrsen: \n",
    "    - https://www.kaggle.com/willkoehrsen/introduction-to-manual-feature-engineering \n",
    "    - https://www.kaggle.com/willkoehrsen/start-here-a-gentle-introduction\n",
    "- [Aguiar[Updated 0.792 LB] LightGBM with Simple Features](https://www.kaggle.com/jsaguiar/updated-0-792-lb-lightgbm-with-simple-features/code)\n",
    "- [Bojan TunguzXGB Simple Features](https://www.kaggle.com/tunguz/xgb-simple-features/code)\n",
    "- [Ivan TimoshilovFork_LightGBM_with_Simple_Features](https://www.kaggle.com/znyksh/fork-lightgbm-with-simple-features)\n",
    "\n",
    "\n"
   ]
  },
  {
   "cell_type": "markdown",
   "metadata": {},
   "source": [
    "# 2- About the data"
   ]
  },
  {
   "cell_type": "markdown",
   "metadata": {},
   "source": [
    "### <font color='green'> Data frames we have are : </font>\n",
    "\n",
    "#### <font color='purple'> application_{train|test}.csv </font>\n",
    "\n",
    "* This is the main table, broken into two files for Train (with TARGET) and Test (without TARGET).\n",
    "Static data for all applications. One row represents one loan in our data sample.\n",
    "\n",
    "#### <font color='purple'> bureau.csv </font>\n",
    "\n",
    "* All client's previous credits provided by other financial institutions that were reported to Credit Bureau (for clients who have a loan in our sample).\n",
    "For every loan in our sample, there are as many rows as number of credits the client had in Credit Bureau before the application date.\n",
    "\n",
    "#### <font color='purple'> bureau_balance.csv </font>\n",
    "\n",
    "* Monthly balances of previous credits in Credit Bureau.\n",
    "This table has one row for each month of history of every previous credit reported to Credit Bureau – i.e the table has (#loans in sample * # of relative previous credits * # of months where we have some history observable for the previous credits) rows.\n",
    "\n",
    "#### <font color='purple'> POS_CASH_balance.csv </font>\n",
    "\n",
    "* Monthly balance snapshots of previous POS (point of sales) and cash loans that the applicant had with Home Credit.\n",
    "This table has one row for each month of history of every previous credit in Home Credit (consumer credit and cash loans) related to loans in our sample – i.e. the table has (#loans in sample * # of relative previous credits * # of months in which we have some history observable for the previous credits) rows.\n",
    "\n",
    "#### <font color='purple'> credit_card_balance.csv </font>\n",
    "\n",
    "* Monthly balance snapshots of previous credit cards that the applicant has with Home Credit.\n",
    "This table has one row for each month of history of every previous credit in Home Credit (consumer credit and cash loans) related to loans in our sample – i.e. the table has (#loans in sample * # of relative previous credit cards * # of months where we have some \n",
    "history observable for the previous credit card) rows.\n",
    "\n",
    "#### <font color='purple'> previous_application.csv </font>\n",
    "\n",
    "* All previous applications for Home Credit loans of clients who have loans in our sample.\n",
    "There is one row for each previous application related to loans in our data sample.\n",
    "\n",
    "#### <font color='purple'> installments_payments.csv</font>\n",
    "\n",
    "* Repayment history for the previously disbursed credits in Home Credit related to the loans in our sample.\n",
    "There is a) one row for every payment that was made plus b) one row each for missed payment.\n",
    "One row is equivalent to one payment of one installment OR one installment corresponding to one payment of one previous Home Credit credit related to loans in our sample.\n",
    "\n",
    "#### <font color='purple'> HomeCredit_columns_description.csv </font>\n",
    "\n",
    "* This file contains descriptions for the columns in the various data files."
   ]
  },
  {
   "cell_type": "markdown",
   "metadata": {},
   "source": [
    "# 3- Import the Tools we need"
   ]
  },
  {
   "cell_type": "code",
   "execution_count": 49,
   "metadata": {},
   "outputs": [],
   "source": [
    "#reading data , EDA , preprocessing tool , visualizations\n",
    "import numpy as np\n",
    "import pandas as pd\n",
    "from sklearn.impute import SimpleImputer\n",
    "import matplotlib.pyplot as plt\n",
    "import seaborn as sns\n",
    "%matplotlib inline\n",
    "\n",
    "#impalanced category , train test split , model optimization\n",
    "from imblearn.over_sampling import SMOTE\n",
    "from sklearn.model_selection import train_test_split\n",
    "import lightgbm as lgb\n",
    "from sklearn.metrics import roc_auc_score, accuracy_score\n",
    "\n",
    "#saving the model\n",
    "import pickle"
   ]
  },
  {
   "cell_type": "markdown",
   "metadata": {},
   "source": [
    "![Annotation 2021-06-27 024230](https://user-images.githubusercontent.com/59618586/123529529-6121ce80-d6f1-11eb-93e3-ae8588aca8f9.png)\n"
   ]
  },
  {
   "cell_type": "markdown",
   "metadata": {},
   "source": [
    "# 4- Read the Data + EDA"
   ]
  },
  {
   "cell_type": "code",
   "execution_count": 55,
   "metadata": {},
   "outputs": [],
   "source": [
    "df = pd.read_csv('application_train.csv')\n",
    "df1 = pd.read_csv('application_test.csv')"
   ]
  },
  {
   "cell_type": "code",
   "execution_count": 56,
   "metadata": {},
   "outputs": [
    {
     "name": "stdout",
     "output_type": "stream",
     "text": [
      "EXT_SOURCE_3                 -0.178919\n",
      "EXT_SOURCE_2                 -0.160472\n",
      "EXT_SOURCE_1                 -0.155317\n",
      "DAYS_EMPLOYED                -0.044932\n",
      "FLOORSMAX_AVG                -0.044003\n",
      "FLOORSMAX_MEDI               -0.043768\n",
      "FLOORSMAX_MODE               -0.043226\n",
      "AMT_GOODS_PRICE              -0.039645\n",
      "REGION_POPULATION_RELATIVE   -0.037227\n",
      "ELEVATORS_AVG                -0.034199\n",
      "Name: TARGET, dtype: float64\n",
      "\n",
      "FLAG_DOCUMENT_3                0.044346\n",
      "REG_CITY_NOT_LIVE_CITY         0.044395\n",
      "FLAG_EMP_PHONE                 0.045982\n",
      "REG_CITY_NOT_WORK_CITY         0.050994\n",
      "DAYS_ID_PUBLISH                0.051457\n",
      "DAYS_LAST_PHONE_CHANGE         0.055218\n",
      "REGION_RATING_CLIENT           0.058899\n",
      "REGION_RATING_CLIENT_W_CITY    0.060893\n",
      "DAYS_BIRTH                     0.078239\n",
      "TARGET                         1.000000\n",
      "Name: TARGET, dtype: float64\n"
     ]
    }
   ],
   "source": [
    "#correlation\n",
    "corr_Y = df.corr(method='pearson')[\"TARGET\"].sort_values()\n",
    "print(corr_Y.head(10),corr_Y.tail(10),sep='\\n\\n')"
   ]
  },
  {
   "cell_type": "code",
   "execution_count": 57,
   "metadata": {},
   "outputs": [
    {
     "data": {
      "image/png": "[encoded data removed]",
      "text/plain": [
       "<Figure size 576x432 with 1 Axes>"
      ]
     },
     "metadata": {
      "needs_background": "light"
     },
     "output_type": "display_data"
    }
   ],
   "source": [
    "#client age range\n",
    "plt.figure(figsize = (8,6))\n",
    "sns.kdeplot(df[df['TARGET']==0]['DAYS_BIRTH'], label = 'Target = 0')\n",
    "sns.kdeplot(df[df['TARGET']==1]['DAYS_BIRTH'], label = 'Target = 1')\n",
    "plt.title('Histogram of age of clients')\n",
    "plt.xlabel('Age [days]')\n",
    "plt.ylabel('Density')\n",
    "plt.show()"
   ]
  },
  {
   "cell_type": "code",
   "execution_count": 60,
   "metadata": {},
   "outputs": [
    {
     "name": "stderr",
     "output_type": "stream",
     "text": [
      "C:\\Users\\zd\\Anaconda3\\lib\\site-packages\\seaborn\\distributions.py:2551: FutureWarning: `distplot` is a deprecated function and will be removed in a future version. Please adapt your code to use either `displot` (a figure-level function with similar flexibility) or `histplot` (an axes-level function for histograms).\n",
      "  warnings.warn(msg, FutureWarning)\n"
     ]
    },
    {
     "data": {
      "image/png": "[encoded data removed]",
      "text/plain": [
       "<Figure size 576x432 with 1 Axes>"
      ]
     },
     "metadata": {
      "needs_background": "light"
     },
     "output_type": "display_data"
    }
   ],
   "source": [
    "#days birth\n",
    "plt.figure(figsize=(8,6))\n",
    "plt.title('Histogram of age of clients')\n",
    "plt.xlabel('Age [days]')\n",
    "plt.ylabel('Density')\n",
    "sns.distplot(df[\"DAYS_BIRTH\"])\n",
    "\n",
    "sns.kdeplot(df['DAYS_BIRTH'], label = 'Target = 0 & 1',color=\"black\")\n",
    "sns.kdeplot(df[df['TARGET']==0]['DAYS_BIRTH'], label = 'Target = 0',color=\"green\")\n",
    "sns.kdeplot(df[df['TARGET']==1]['DAYS_BIRTH'], label = 'Target = 1',color=\"b\")\n",
    "\n",
    "plt.show();"
   ]
  },
  {
   "cell_type": "code",
   "execution_count": 62,
   "metadata": {},
   "outputs": [
    {
     "data": {
      "image/png": "[encoded data removed]",
      "text/plain": [
       "<Figure size 720x576 with 2 Axes>"
      ]
     },
     "metadata": {
      "needs_background": "light"
     },
     "output_type": "display_data"
    }
   ],
   "source": [
    "# select only attributes with |corr| > 0.05\n",
    "indices = corr_Y[abs(corr_Y) > 0.05].index\n",
    "fea_corr = df[indices].corr()\n",
    "\n",
    "plt.figure(figsize=(10,8))\n",
    "sns.heatmap(fea_corr, cmap=\"RdYlBu\", annot=True, vmin=-0.2, vmax=0.1)\n",
    "plt.show()"
   ]
  },
  {
   "cell_type": "code",
   "execution_count": 4,
   "metadata": {},
   "outputs": [],
   "source": [
    "# make a label as to whether the instance belongs to train to test dataset\n",
    "df['is_train'] = 1\n",
    "df1['is_train'] = 0\n",
    "\n",
    "# target for train data\n",
    "trainY = df['TARGET']\n",
    "df.drop('TARGET',axis=1,inplace=True)\n",
    "\n",
    "\n",
    "# test id \n",
    "testID = df1['SK_ID_CURR']\n",
    "\n",
    "data = pd.concat([df,df1],axis=0)"
   ]
  },
  {
   "cell_type": "code",
   "execution_count": 8,
   "metadata": {},
   "outputs": [
    {
     "data": {
      "text/plain": [
       "SK_ID_CURR                      int64\n",
       "NAME_CONTRACT_TYPE             object\n",
       "CODE_GENDER                    object\n",
       "FLAG_OWN_CAR                   object\n",
       "FLAG_OWN_REALTY                object\n",
       "                               ...   \n",
       "AMT_REQ_CREDIT_BUREAU_WEEK    float64\n",
       "AMT_REQ_CREDIT_BUREAU_MON     float64\n",
       "AMT_REQ_CREDIT_BUREAU_QRT     float64\n",
       "AMT_REQ_CREDIT_BUREAU_YEAR    float64\n",
       "is_train                        int64\n",
       "Length: 122, dtype: object"
      ]
     },
     "execution_count": 8,
     "metadata": {},
     "output_type": "execute_result"
    }
   ],
   "source": [
    "#discovering data types\n",
    "df.dtypes"
   ]
  },
  {
   "cell_type": "code",
   "execution_count": 11,
   "metadata": {},
   "outputs": [
    {
     "data": {
      "text/plain": [
       "COMMONAREA_MEDI             69.872297\n",
       "COMMONAREA_AVG              69.872297\n",
       "COMMONAREA_MODE             69.872297\n",
       "NONLIVINGAPARTMENTS_AVG     69.432963\n",
       "NONLIVINGAPARTMENTS_MODE    69.432963\n",
       "                              ...    \n",
       "EXT_SOURCE_2                 0.214626\n",
       "AMT_GOODS_PRICE              0.090403\n",
       "AMT_ANNUITY                  0.003902\n",
       "CNT_FAM_MEMBERS              0.000650\n",
       "DAYS_LAST_PHONE_CHANGE       0.000325\n",
       "Length: 67, dtype: float64"
      ]
     },
     "execution_count": 11,
     "metadata": {},
     "output_type": "execute_result"
    }
   ],
   "source": [
    "#Nan values in each feature percentage\n",
    "total = df[df.columns[df.isnull().any()==True]]\n",
    "total.isnull().mean().sort_values(ascending=False)*100"
   ]
  },
  {
   "cell_type": "markdown",
   "metadata": {},
   "source": [
    "# 5- preprocessing "
   ]
  },
  {
   "cell_type": "code",
   "execution_count": 12,
   "metadata": {},
   "outputs": [],
   "source": [
    "#filling by mode\n",
    "df['DAYS_EMPLOYED'].replace(df['DAYS_EMPLOYED'].mode()[0], np.nan, inplace= True)"
   ]
  },
  {
   "cell_type": "code",
   "execution_count": 13,
   "metadata": {},
   "outputs": [],
   "source": [
    "#feature generation also filling Nan values in common df's features\n",
    "def prepare_df(data):\n",
    "    data['NEW_CREDIT_TO_ANNUITY_RATIO'] = data['AMT_CREDIT'] / data['AMT_ANNUITY']\n",
    "    data['NEW_CREDIT_TO_GOODS_RATIO'] = data['AMT_CREDIT'] / data['AMT_GOODS_PRICE']\n",
    "    data['NEW_ANNUITY_TO_INCOME_RATIO'] = data['AMT_ANNUITY'] / data['AMT_INCOME_TOTAL']\n",
    "    data['NEW_CREDIT_TO_INCOME_RATIO'] = data['AMT_CREDIT'] / data['AMT_INCOME_TOTAL']\n",
    "\n",
    "    data['CNT_FAM_MEMBERS'].fillna(data['CNT_FAM_MEMBERS'].median(),inplace=True)\n",
    "    data['NEW_INC_PER_MEMB'] = data['AMT_INCOME_TOTAL'] / data['CNT_FAM_MEMBERS']\n",
    "    data['NEW_INC_PER_CHLD'] = data['AMT_INCOME_TOTAL'] / (1 + data['CNT_CHILDREN'])\n",
    "\n",
    "    data['NEW_EMPLOY_TO_BIRTH_RATIO'] = data['DAYS_EMPLOYED'] / data['DAYS_BIRTH']\n",
    "    data['NEW_CAR_TO_BIRTH_RATIO'] = data['OWN_CAR_AGE'] / data['DAYS_BIRTH']\n",
    "    data['NEW_CAR_TO_EMPLOY_RATIO'] = data['OWN_CAR_AGE'] / data['DAYS_EMPLOYED']\n",
    "    data['NEW_PHONE_TO_BIRTH_RATIO'] = data['DAYS_LAST_PHONE_CHANGE'] / data['DAYS_BIRTH']\n",
    "\n",
    "    data['NEW_SOURCES_PROD'] = data['EXT_SOURCE_1'] * data['EXT_SOURCE_2'] * data['EXT_SOURCE_3']\n",
    "    data['NEW_EXT_SOURCES_MEAN'] = data[['EXT_SOURCE_1', 'EXT_SOURCE_2', 'EXT_SOURCE_3']].mean(axis=1)\n",
    "    data['NEW_SCORES_STD'] = data[['EXT_SOURCE_1', 'EXT_SOURCE_2', 'EXT_SOURCE_3']].std(axis=1)\n",
    "    data['NEW_SCORES_STD'].fillna(data['NEW_SCORES_STD'].mean(),inplace=True)\n",
    "    \n",
    "    return data"
   ]
  },
  {
   "cell_type": "code",
   "execution_count": 14,
   "metadata": {},
   "outputs": [],
   "source": [
    "#removing ouliers using IQR(inter quartile range)\n",
    "def remove_outliers(df):\n",
    "#     d1 = df.select_dtypes(include='O')\n",
    "#     df = df.select_dtypes(exclude='O')\n",
    "    Q1 = df.quantile(0.25)\n",
    "    Q3 = df.quantile(0.75)\n",
    "    IQR = Q3 - Q1\n",
    "    df = df[~(df < (Q1 - 1.5 * IQR)) | (df > (Q3 + 1.5 * IQR))]\n",
    "#     df = pd.concat([df, d1], axis=1)\n",
    "    return df"
   ]
  },
  {
   "cell_type": "code",
   "execution_count": 15,
   "metadata": {},
   "outputs": [],
   "source": [
    "#removing features wo has more than 50% Nan values and filling other features\n",
    "def process_df(df, raw=False):\n",
    "    df_nan = df[df.columns[df.isnull().any()]]\n",
    "    df_na = df_nan[df_nan.columns[df_nan.isnull().mean()*100 < 50]]\n",
    "    df_not_nan = df[df.columns[~df.isnull().any()]]\n",
    "    df_na_cat = df_na.select_dtypes(include='O')\n",
    "    for col in df_na_cat:\n",
    "        df_na_cat[col].fillna(df_na_cat[col].mode()[0], inplace=True)\n",
    "    df_na_num = df_na.select_dtypes(exclude='O')\n",
    "    df_na_num = remove_outliers(df_na_num)\n",
    "    df_na_num = df_na_num.fillna(df_na_num.mean())\n",
    "    if raw:\n",
    "        df = pd.concat([df_not_nan.drop('SK_ID_CURR', axis=1), df_na_cat, df_na_num], axis=1)\n",
    "    else:\n",
    "        df = pd.concat([df_not_nan, df_na_cat, df_na_num], axis=1)\n",
    "    df = pd.get_dummies(df, drop_first=True)\n",
    "    return df"
   ]
  },
  {
   "cell_type": "code",
   "execution_count": 16,
   "metadata": {},
   "outputs": [],
   "source": [
    "#lets use our function\n",
    "data = prepare_df(data)"
   ]
  },
  {
   "cell_type": "code",
   "execution_count": 17,
   "metadata": {},
   "outputs": [],
   "source": [
    "#read other datasets\n",
    "bureau = pd.read_csv('bureau.csv')\n",
    "bureau_balance = pd.read_csv('bureau_balance.csv')"
   ]
  },
  {
   "cell_type": "code",
   "execution_count": 18,
   "metadata": {},
   "outputs": [],
   "source": [
    "#labeling STATUS \n",
    "bureau_balance['STATUS'] = bureau_balance['STATUS'].replace(['C','X'],'0').apply(lambda x:int(x))\n",
    "bb = bureau_balance['STATUS'].groupby(bureau_balance['SK_ID_BUREAU']).sum().to_frame()\n",
    "\n",
    "# merge the sum of DPD\n",
    "bureau = pd.merge(bureau,bb,left_on='SK_ID_BUREAU',right_index=True,how='left')"
   ]
  },
  {
   "cell_type": "code",
   "execution_count": 19,
   "metadata": {},
   "outputs": [],
   "source": [
    "#lets process our data\n",
    "bureau = process_df(bureau)"
   ]
  },
  {
   "cell_type": "code",
   "execution_count": 20,
   "metadata": {},
   "outputs": [],
   "source": [
    "# examine fraction of missing value in each attribute\n",
    "def missing_df(df):\n",
    "        \"\"\"\n",
    "        return a data frame containing the statistics of missing value\n",
    "        \"\"\"\n",
    "        \n",
    "        total = df.isnull().sum().sort_values(ascending=False)\n",
    "        fraction = 100 * total / df.shape[0]\n",
    "        \n",
    "        # keep to two decimal places\n",
    "        fraction = fraction.apply(lambda x: round(x,2))\n",
    "        \n",
    "        df_missing = pd.concat([total,fraction], axis=1, keys=['Total','Fraction'])\n",
    "        df_missing.index.name = 'Attributes'\n",
    "        \n",
    "        return df_missing\n",
    "    \n",
    "    \n",
    "def cut_missing_fea(df, mis_threshold=50):\n",
    "    \"\"\"\n",
    "    cut off features with ratio of missing values bigger than 60%\n",
    "    \"\"\"\n",
    "    missing = missing_df(df)\n",
    "    keep_fea = missing[missing['Fraction']<mis_threshold].index\n",
    "\n",
    "    return df[keep_fea]\n",
    "\n",
    "\n",
    "    \n",
    "def prepare_data(df, group_var, prefix):\n",
    "    \n",
    "    # cut off featues with too much missing values\n",
    "    df = cut_missing_fea(df)\n",
    "    \n",
    "    # if only one or two categories, factorize()\n",
    "    for col in df:\n",
    "        if df[col].dtype == 'object' and len(list(df[col].unique())) <= 2:\n",
    "            df.loc[:,col], _ = pd.factorize(df[col])\n",
    "    \n",
    "    # one hot encoding if more than two categories, including Null\n",
    "    df = pd.get_dummies(df,dummy_na=True)\n",
    "    \n",
    "    # compute sum, mean, std for each column\n",
    "    d1 = df.drop([group_var],axis=1).groupby('SK_ID_CURR').agg(['sum','mean','std'])\n",
    "    d1.columns = ['_'.join(col).strip('_ ') for col in d1.columns.values]\n",
    "    d1.add_prefix(prefix+'_')\n",
    "    \n",
    "    # count group_var for each SK_ID_CURR\n",
    "    d2 = df[['SK_ID_CURR',group_var]].groupby('SK_ID_CURR').count()\n",
    "    \n",
    "    # merge \n",
    "    df = pd.merge(d1,d2,left_index=True,right_index=True,how='left')\n",
    "    \n",
    "    # add prefix\n",
    "    df = df.add_prefix(prefix+'_')\n",
    "    \n",
    "    return df.reset_index()\n",
    "    "
   ]
  },
  {
   "cell_type": "code",
   "execution_count": 21,
   "metadata": {},
   "outputs": [
    {
     "name": "stdout",
     "output_type": "stream",
     "text": [
      "bureau.shape =  (305811, 92)\n"
     ]
    },
    {
     "data": {
      "text/plain": [
       "(356255, 226)"
      ]
     },
     "execution_count": 21,
     "metadata": {},
     "output_type": "execute_result"
    }
   ],
   "source": [
    "#prepare the bureau df with the same prepare function\n",
    "bureau = prepare_data(bureau,group_var='SK_ID_BUREAU',prefix='bureau')\n",
    "print(\"bureau.shape = \",bureau.shape)\n",
    "\n",
    "\n",
    "# merge with  data\n",
    "data = pd.merge(data,bureau,how='left')\n",
    "data.shape"
   ]
  },
  {
   "cell_type": "code",
   "execution_count": 22,
   "metadata": {},
   "outputs": [],
   "source": [
    "#delete old data from the memory to allocate faster\n",
    "del bureau, bureau_balance"
   ]
  },
  {
   "cell_type": "code",
   "execution_count": 23,
   "metadata": {},
   "outputs": [],
   "source": [
    "#read the previous applications data\n",
    "prev_app = pd.read_csv('previous_application.csv')"
   ]
  },
  {
   "cell_type": "code",
   "execution_count": 24,
   "metadata": {},
   "outputs": [],
   "source": [
    "#replacing the Nan values with the mode of the days 365243\n",
    "col_DAYS = []\n",
    "for col in prev_app:\n",
    "    if 'DAYS' in col:\n",
    "        col_DAYS.append(col)\n",
    "\n",
    "for col in col_DAYS:\n",
    "    prev_app[col].replace(365243,np.nan,inplace=True)\n",
    "del col_DAYS"
   ]
  },
  {
   "cell_type": "code",
   "execution_count": 25,
   "metadata": {},
   "outputs": [
    {
     "name": "stderr",
     "output_type": "stream",
     "text": [
      "C:\\Users\\zd\\Anaconda3\\lib\\site-packages\\pandas\\core\\indexing.py:1743: SettingWithCopyWarning: \n",
      "A value is trying to be set on a copy of a slice from a DataFrame.\n",
      "Try using .loc[row_indexer,col_indexer] = value instead\n",
      "\n",
      "See the caveats in the documentation: https://pandas.pydata.org/pandas-docs/stable/user_guide/indexing.html#returning-a-view-versus-a-copy\n",
      "  isetter(ilocs[0], value)\n"
     ]
    }
   ],
   "source": [
    "#prepare data with exceptions\n",
    "prev_app = prepare_data(prev_app,group_var='SK_ID_PREV',prefix='prev_app')\n",
    "\n",
    "#merging the important data with the \"data1\"\n",
    "data1 = pd.merge(data,prev_app,how='left')"
   ]
  },
  {
   "cell_type": "code",
   "execution_count": 26,
   "metadata": {},
   "outputs": [],
   "source": [
    "#read the cash balance data\n",
    "pos_bal = pd.read_csv('POS_CASH_balance.csv')"
   ]
  },
  {
   "cell_type": "code",
   "execution_count": 27,
   "metadata": {},
   "outputs": [],
   "source": [
    "#prepare the cash balance data\n",
    "pos_bal = prepare_data(pos_bal,group_var='SK_ID_PREV',prefix='pos')\n",
    "\n",
    "# merge with main work data\n",
    "data = pd.merge(data,pos_bal,how='left')"
   ]
  },
  {
   "cell_type": "code",
   "execution_count": 28,
   "metadata": {},
   "outputs": [],
   "source": [
    "#delete the un-needed data to ease the allocation for the memory\n",
    "del pos_bal, prev_app"
   ]
  },
  {
   "cell_type": "code",
   "execution_count": 29,
   "metadata": {},
   "outputs": [],
   "source": [
    "#read the install payments dataset\n",
    "install_pay = pd.read_csv('installments_payments.csv')"
   ]
  },
  {
   "cell_type": "code",
   "execution_count": 30,
   "metadata": {},
   "outputs": [],
   "source": [
    "#prepare the payments dataset\n",
    "install_pay = prepare_data(install_pay,group_var='SK_ID_PREV',prefix='install')\n",
    "\n",
    "# merge with data\n",
    "data = pd.merge(data,install_pay,how='left')"
   ]
  },
  {
   "cell_type": "code",
   "execution_count": 31,
   "metadata": {},
   "outputs": [],
   "source": [
    "#read the credit balance dataset\n",
    "credit_bal = pd.read_csv('credit_card_balance.csv')"
   ]
  },
  {
   "cell_type": "code",
   "execution_count": 32,
   "metadata": {},
   "outputs": [],
   "source": [
    "#prepare the credit balance dataset\n",
    "credit_bal = prepare_data(credit_bal,group_var='SK_ID_PREV',prefix='credit')\n",
    "\n",
    "# merge with data\n",
    "data = pd.merge(data,credit_bal,how='left')"
   ]
  },
  {
   "cell_type": "code",
   "execution_count": 33,
   "metadata": {},
   "outputs": [],
   "source": [
    "#delete the un-needed data to ease the allocation for the memory\n",
    "del credit_bal, install_pay"
   ]
  },
  {
   "cell_type": "code",
   "execution_count": 34,
   "metadata": {},
   "outputs": [],
   "source": [
    "#data.to_csv(\"data.csv\") #save the prepared work data as .csv file\n",
    "#data = pd.read_csv('data.csv') #red the work data if it is already saved"
   ]
  },
  {
   "cell_type": "code",
   "execution_count": 35,
   "metadata": {},
   "outputs": [
    {
     "name": "stderr",
     "output_type": "stream",
     "text": [
      "C:\\Users\\zd\\Anaconda3\\lib\\site-packages\\pandas\\core\\series.py:4536: SettingWithCopyWarning: \n",
      "A value is trying to be set on a copy of a slice from a DataFrame\n",
      "\n",
      "See the caveats in the documentation: https://pandas.pydata.org/pandas-docs/stable/user_guide/indexing.html#returning-a-view-versus-a-copy\n",
      "  downcast=downcast,\n"
     ]
    }
   ],
   "source": [
    "# process the wholde data\n",
    "data = process_df(data, raw=False)"
   ]
  },
  {
   "cell_type": "markdown",
   "metadata": {},
   "source": [
    "# 6- Scaling Data"
   ]
  },
  {
   "cell_type": "code",
   "execution_count": 36,
   "metadata": {},
   "outputs": [],
   "source": [
    "from sklearn.preprocessing import StandardScaler\n",
    "\n",
    "scaler = StandardScaler()\n",
    "scaler.fit(data)\n",
    "scaled_data = scaler.transform(data)"
   ]
  },
  {
   "cell_type": "code",
   "execution_count": 37,
   "metadata": {},
   "outputs": [
    {
     "data": {
      "text/html": [
       "<div>\n",
       "<style scoped>\n",
       "    .dataframe tbody tr th:only-of-type {\n",
       "        vertical-align: middle;\n",
       "    }\n",
       "\n",
       "    .dataframe tbody tr th {\n",
       "        vertical-align: top;\n",
       "    }\n",
       "\n",
       "    .dataframe thead th {\n",
       "        text-align: right;\n",
       "    }\n",
       "</style>\n",
       "<table border=\"1\" class=\"dataframe\">\n",
       "  <thead>\n",
       "    <tr style=\"text-align: right;\">\n",
       "      <th></th>\n",
       "      <th>SK_ID_CURR</th>\n",
       "      <th>CNT_CHILDREN</th>\n",
       "      <th>AMT_INCOME_TOTAL</th>\n",
       "      <th>AMT_CREDIT</th>\n",
       "      <th>REGION_POPULATION_RELATIVE</th>\n",
       "      <th>DAYS_BIRTH</th>\n",
       "      <th>DAYS_EMPLOYED</th>\n",
       "      <th>DAYS_REGISTRATION</th>\n",
       "      <th>DAYS_ID_PUBLISH</th>\n",
       "      <th>FLAG_MOBIL</th>\n",
       "      <th>...</th>\n",
       "      <th>OCCUPATION_TYPE_Medicine staff</th>\n",
       "      <th>OCCUPATION_TYPE_Private service staff</th>\n",
       "      <th>OCCUPATION_TYPE_Realty agents</th>\n",
       "      <th>OCCUPATION_TYPE_Sales staff</th>\n",
       "      <th>OCCUPATION_TYPE_Secretaries</th>\n",
       "      <th>OCCUPATION_TYPE_Security staff</th>\n",
       "      <th>OCCUPATION_TYPE_Waiters/barmen staff</th>\n",
       "      <th>HOUSETYPE_MODE_specific housing</th>\n",
       "      <th>HOUSETYPE_MODE_terraced house</th>\n",
       "      <th>EMERGENCYSTATE_MODE_Yes</th>\n",
       "    </tr>\n",
       "  </thead>\n",
       "  <tbody>\n",
       "    <tr>\n",
       "      <th>0</th>\n",
       "      <td>100002</td>\n",
       "      <td>0</td>\n",
       "      <td>202500.0</td>\n",
       "      <td>406597.5</td>\n",
       "      <td>0.018801</td>\n",
       "      <td>-9461</td>\n",
       "      <td>-637</td>\n",
       "      <td>-3648.0</td>\n",
       "      <td>-2120</td>\n",
       "      <td>1</td>\n",
       "      <td>...</td>\n",
       "      <td>0</td>\n",
       "      <td>0</td>\n",
       "      <td>0</td>\n",
       "      <td>0</td>\n",
       "      <td>0</td>\n",
       "      <td>0</td>\n",
       "      <td>0</td>\n",
       "      <td>0</td>\n",
       "      <td>0</td>\n",
       "      <td>0</td>\n",
       "    </tr>\n",
       "    <tr>\n",
       "      <th>1</th>\n",
       "      <td>100003</td>\n",
       "      <td>0</td>\n",
       "      <td>270000.0</td>\n",
       "      <td>1293502.5</td>\n",
       "      <td>0.003541</td>\n",
       "      <td>-16765</td>\n",
       "      <td>-1188</td>\n",
       "      <td>-1186.0</td>\n",
       "      <td>-291</td>\n",
       "      <td>1</td>\n",
       "      <td>...</td>\n",
       "      <td>0</td>\n",
       "      <td>0</td>\n",
       "      <td>0</td>\n",
       "      <td>0</td>\n",
       "      <td>0</td>\n",
       "      <td>0</td>\n",
       "      <td>0</td>\n",
       "      <td>0</td>\n",
       "      <td>0</td>\n",
       "      <td>0</td>\n",
       "    </tr>\n",
       "    <tr>\n",
       "      <th>2</th>\n",
       "      <td>100004</td>\n",
       "      <td>0</td>\n",
       "      <td>67500.0</td>\n",
       "      <td>135000.0</td>\n",
       "      <td>0.010032</td>\n",
       "      <td>-19046</td>\n",
       "      <td>-225</td>\n",
       "      <td>-4260.0</td>\n",
       "      <td>-2531</td>\n",
       "      <td>1</td>\n",
       "      <td>...</td>\n",
       "      <td>0</td>\n",
       "      <td>0</td>\n",
       "      <td>0</td>\n",
       "      <td>0</td>\n",
       "      <td>0</td>\n",
       "      <td>0</td>\n",
       "      <td>0</td>\n",
       "      <td>0</td>\n",
       "      <td>0</td>\n",
       "      <td>0</td>\n",
       "    </tr>\n",
       "    <tr>\n",
       "      <th>3</th>\n",
       "      <td>100006</td>\n",
       "      <td>0</td>\n",
       "      <td>135000.0</td>\n",
       "      <td>312682.5</td>\n",
       "      <td>0.008019</td>\n",
       "      <td>-19005</td>\n",
       "      <td>-3039</td>\n",
       "      <td>-9833.0</td>\n",
       "      <td>-2437</td>\n",
       "      <td>1</td>\n",
       "      <td>...</td>\n",
       "      <td>0</td>\n",
       "      <td>0</td>\n",
       "      <td>0</td>\n",
       "      <td>0</td>\n",
       "      <td>0</td>\n",
       "      <td>0</td>\n",
       "      <td>0</td>\n",
       "      <td>0</td>\n",
       "      <td>0</td>\n",
       "      <td>0</td>\n",
       "    </tr>\n",
       "    <tr>\n",
       "      <th>4</th>\n",
       "      <td>100007</td>\n",
       "      <td>0</td>\n",
       "      <td>121500.0</td>\n",
       "      <td>513000.0</td>\n",
       "      <td>0.028663</td>\n",
       "      <td>-19932</td>\n",
       "      <td>-3038</td>\n",
       "      <td>-4311.0</td>\n",
       "      <td>-3458</td>\n",
       "      <td>1</td>\n",
       "      <td>...</td>\n",
       "      <td>0</td>\n",
       "      <td>0</td>\n",
       "      <td>0</td>\n",
       "      <td>0</td>\n",
       "      <td>0</td>\n",
       "      <td>0</td>\n",
       "      <td>0</td>\n",
       "      <td>0</td>\n",
       "      <td>0</td>\n",
       "      <td>0</td>\n",
       "    </tr>\n",
       "  </tbody>\n",
       "</table>\n",
       "<p>5 rows × 352 columns</p>\n",
       "</div>"
      ],
      "text/plain": [
       "   SK_ID_CURR  CNT_CHILDREN  AMT_INCOME_TOTAL  AMT_CREDIT  \\\n",
       "0      100002             0          202500.0    406597.5   \n",
       "1      100003             0          270000.0   1293502.5   \n",
       "2      100004             0           67500.0    135000.0   \n",
       "3      100006             0          135000.0    312682.5   \n",
       "4      100007             0          121500.0    513000.0   \n",
       "\n",
       "   REGION_POPULATION_RELATIVE  DAYS_BIRTH  DAYS_EMPLOYED  DAYS_REGISTRATION  \\\n",
       "0                    0.018801       -9461           -637            -3648.0   \n",
       "1                    0.003541      -16765          -1188            -1186.0   \n",
       "2                    0.010032      -19046           -225            -4260.0   \n",
       "3                    0.008019      -19005          -3039            -9833.0   \n",
       "4                    0.028663      -19932          -3038            -4311.0   \n",
       "\n",
       "   DAYS_ID_PUBLISH  FLAG_MOBIL  ...  OCCUPATION_TYPE_Medicine staff  \\\n",
       "0            -2120           1  ...                               0   \n",
       "1             -291           1  ...                               0   \n",
       "2            -2531           1  ...                               0   \n",
       "3            -2437           1  ...                               0   \n",
       "4            -3458           1  ...                               0   \n",
       "\n",
       "   OCCUPATION_TYPE_Private service staff  OCCUPATION_TYPE_Realty agents  \\\n",
       "0                                      0                              0   \n",
       "1                                      0                              0   \n",
       "2                                      0                              0   \n",
       "3                                      0                              0   \n",
       "4                                      0                              0   \n",
       "\n",
       "   OCCUPATION_TYPE_Sales staff  OCCUPATION_TYPE_Secretaries  \\\n",
       "0                            0                            0   \n",
       "1                            0                            0   \n",
       "2                            0                            0   \n",
       "3                            0                            0   \n",
       "4                            0                            0   \n",
       "\n",
       "   OCCUPATION_TYPE_Security staff  OCCUPATION_TYPE_Waiters/barmen staff  \\\n",
       "0                               0                                     0   \n",
       "1                               0                                     0   \n",
       "2                               0                                     0   \n",
       "3                               0                                     0   \n",
       "4                               0                                     0   \n",
       "\n",
       "   HOUSETYPE_MODE_specific housing  HOUSETYPE_MODE_terraced house  \\\n",
       "0                                0                              0   \n",
       "1                                0                              0   \n",
       "2                                0                              0   \n",
       "3                                0                              0   \n",
       "4                                0                              0   \n",
       "\n",
       "   EMERGENCYSTATE_MODE_Yes  \n",
       "0                        0  \n",
       "1                        0  \n",
       "2                        0  \n",
       "3                        0  \n",
       "4                        0  \n",
       "\n",
       "[5 rows x 352 columns]"
      ]
     },
     "execution_count": 37,
     "metadata": {},
     "output_type": "execute_result"
    }
   ],
   "source": [
    "data.head()"
   ]
  },
  {
   "cell_type": "markdown",
   "metadata": {},
   "source": [
    "# 7- dealing with imbalanced target"
   ]
  },
  {
   "cell_type": "code",
   "execution_count": 39,
   "metadata": {},
   "outputs": [
    {
     "name": "stderr",
     "output_type": "stream",
     "text": [
      "C:\\Users\\zd\\Anaconda3\\lib\\site-packages\\seaborn\\_decorators.py:43: FutureWarning: Pass the following variable as a keyword arg: x. From version 0.12, the only valid positional argument will be `data`, and passing other arguments without an explicit keyword will result in an error or misinterpretation.\n",
      "  FutureWarning\n"
     ]
    },
    {
     "data": {
      "image/png": "[encoded data removed]",
      "text/plain": [
       "<Figure size 432x288 with 1 Axes>"
      ]
     },
     "metadata": {
      "needs_background": "light"
     },
     "output_type": "display_data"
    }
   ],
   "source": [
    "#visualize the imbalaced target label\n",
    "sns.countplot(trainY);\n",
    "plt.title(\"impalanced target data\");"
   ]
  },
  {
   "cell_type": "code",
   "execution_count": 40,
   "metadata": {},
   "outputs": [],
   "source": [
    "#ignoring features we wont need and prepare for modeling\n",
    "ignore_features = ['SK_ID_CURR', 'is_train']\n",
    "relevant_features = [col for col in data.columns if col not in ignore_features]\n",
    "trainX = data[data['is_train'] == 1][relevant_features]\n",
    "testX = data[data['is_train'] == 0][relevant_features]"
   ]
  },
  {
   "cell_type": "code",
   "execution_count": 41,
   "metadata": {},
   "outputs": [],
   "source": [
    "#another imputations by median\n",
    "imputer = SimpleImputer(strategy=\"median\")\n",
    "imputer.fit(trainX)\n",
    "trainX = imputer.transform(trainX)\n",
    "testX = imputer.transform(testX)"
   ]
  },
  {
   "cell_type": "code",
   "execution_count": 42,
   "metadata": {},
   "outputs": [],
   "source": [
    "#dealing with imbalanced by SMOTE\n",
    "smt = SMOTE()\n",
    "X_smote_res, y_smote_res = smt.fit_resample(trainX, trainY)"
   ]
  },
  {
   "cell_type": "code",
   "execution_count": 44,
   "metadata": {},
   "outputs": [
    {
     "name": "stderr",
     "output_type": "stream",
     "text": [
      "C:\\Users\\zd\\Anaconda3\\lib\\site-packages\\seaborn\\_decorators.py:43: FutureWarning: Pass the following variable as a keyword arg: x. From version 0.12, the only valid positional argument will be `data`, and passing other arguments without an explicit keyword will result in an error or misinterpretation.\n",
      "  FutureWarning\n"
     ]
    },
    {
     "data": {
      "image/png": "[encoded data removed]",
      "text/plain": [
       "<Figure size 432x288 with 1 Axes>"
      ]
     },
     "metadata": {
      "needs_background": "light"
     },
     "output_type": "display_data"
    }
   ],
   "source": [
    "sns.countplot(y_smote_res);\n",
    "plt.title(\"impalanced target data after SMOTE\");"
   ]
  },
  {
   "cell_type": "markdown",
   "metadata": {},
   "source": [
    "# 8- splitting data"
   ]
  },
  {
   "cell_type": "code",
   "execution_count": 45,
   "metadata": {},
   "outputs": [],
   "source": [
    "#train test splits\n",
    "x_train, x_val, y_train, y_val = train_test_split(X_smote_res, y_smote_res, test_size=0.2, random_state=42)"
   ]
  },
  {
   "cell_type": "markdown",
   "metadata": {},
   "source": [
    "# 9- training the model and evaluating"
   ]
  },
  {
   "cell_type": "code",
   "execution_count": 46,
   "metadata": {},
   "outputs": [],
   "source": [
    "#lighGBM model data preparation\n",
    "lgb_train = lgb.Dataset(data=x_train, label=y_train)\n",
    "lgb_eval = lgb.Dataset(data=x_val, label=y_val)"
   ]
  },
  {
   "cell_type": "code",
   "execution_count": 47,
   "metadata": {
    "scrolled": false
   },
   "outputs": [
    {
     "name": "stderr",
     "output_type": "stream",
     "text": [
      "C:\\Users\\zd\\Anaconda3\\lib\\site-packages\\lightgbm\\engine.py:148: UserWarning: Found `num_iteration` in params. Will use it instead of argument\n",
      "  warnings.warn(\"Found `{}` in params. Will use it instead of argument\".format(alias))\n"
     ]
    },
    {
     "name": "stdout",
     "output_type": "stream",
     "text": [
      "Training until validation scores don't improve for 100 rounds\n",
      "[20]\tvalid_0's auc: 0.96257\n",
      "[40]\tvalid_0's auc: 0.965815\n",
      "[60]\tvalid_0's auc: 0.969024\n",
      "[80]\tvalid_0's auc: 0.970722\n",
      "[100]\tvalid_0's auc: 0.971997\n",
      "[120]\tvalid_0's auc: 0.972824\n",
      "[140]\tvalid_0's auc: 0.973472\n",
      "[160]\tvalid_0's auc: 0.97399\n",
      "[180]\tvalid_0's auc: 0.97447\n",
      "[200]\tvalid_0's auc: 0.974896\n",
      "[220]\tvalid_0's auc: 0.975262\n",
      "[240]\tvalid_0's auc: 0.975617\n",
      "[260]\tvalid_0's auc: 0.975929\n",
      "[280]\tvalid_0's auc: 0.976199\n",
      "[300]\tvalid_0's auc: 0.976434\n",
      "[320]\tvalid_0's auc: 0.976644\n",
      "[340]\tvalid_0's auc: 0.976846\n",
      "[360]\tvalid_0's auc: 0.977043\n",
      "[380]\tvalid_0's auc: 0.977225\n",
      "[400]\tvalid_0's auc: 0.977417\n",
      "[420]\tvalid_0's auc: 0.97759\n",
      "[440]\tvalid_0's auc: 0.977761\n",
      "[460]\tvalid_0's auc: 0.977911\n",
      "[480]\tvalid_0's auc: 0.978063\n",
      "[500]\tvalid_0's auc: 0.978191\n",
      "[520]\tvalid_0's auc: 0.978321\n",
      "[540]\tvalid_0's auc: 0.978443\n",
      "[560]\tvalid_0's auc: 0.978563\n",
      "[580]\tvalid_0's auc: 0.978679\n",
      "[600]\tvalid_0's auc: 0.978781\n",
      "[620]\tvalid_0's auc: 0.978882\n",
      "[640]\tvalid_0's auc: 0.978977\n",
      "[660]\tvalid_0's auc: 0.979059\n",
      "[680]\tvalid_0's auc: 0.97915\n",
      "[700]\tvalid_0's auc: 0.979226\n",
      "[720]\tvalid_0's auc: 0.979291\n",
      "[740]\tvalid_0's auc: 0.979366\n",
      "[760]\tvalid_0's auc: 0.979432\n",
      "[780]\tvalid_0's auc: 0.979495\n",
      "[800]\tvalid_0's auc: 0.97955\n",
      "[820]\tvalid_0's auc: 0.979604\n",
      "[840]\tvalid_0's auc: 0.979656\n",
      "[860]\tvalid_0's auc: 0.979705\n",
      "[880]\tvalid_0's auc: 0.979748\n",
      "[900]\tvalid_0's auc: 0.979793\n",
      "[920]\tvalid_0's auc: 0.979833\n",
      "[940]\tvalid_0's auc: 0.979874\n",
      "[960]\tvalid_0's auc: 0.979911\n",
      "[980]\tvalid_0's auc: 0.97995\n",
      "[1000]\tvalid_0's auc: 0.979983\n",
      "[1020]\tvalid_0's auc: 0.980026\n",
      "[1040]\tvalid_0's auc: 0.980058\n",
      "[1060]\tvalid_0's auc: 0.980088\n",
      "[1080]\tvalid_0's auc: 0.980118\n",
      "[1100]\tvalid_0's auc: 0.980147\n",
      "[1120]\tvalid_0's auc: 0.980171\n",
      "[1140]\tvalid_0's auc: 0.980202\n",
      "[1160]\tvalid_0's auc: 0.980232\n",
      "[1180]\tvalid_0's auc: 0.980262\n",
      "[1200]\tvalid_0's auc: 0.980288\n",
      "[1220]\tvalid_0's auc: 0.980319\n",
      "[1240]\tvalid_0's auc: 0.98034\n",
      "[1260]\tvalid_0's auc: 0.980367\n",
      "[1280]\tvalid_0's auc: 0.980394\n",
      "[1300]\tvalid_0's auc: 0.980415\n",
      "[1320]\tvalid_0's auc: 0.98044\n",
      "[1340]\tvalid_0's auc: 0.980461\n",
      "[1360]\tvalid_0's auc: 0.980482\n",
      "[1380]\tvalid_0's auc: 0.980498\n",
      "[1400]\tvalid_0's auc: 0.980514\n",
      "[1420]\tvalid_0's auc: 0.980529\n",
      "[1440]\tvalid_0's auc: 0.980553\n",
      "[1460]\tvalid_0's auc: 0.980569\n",
      "[1480]\tvalid_0's auc: 0.980586\n",
      "[1500]\tvalid_0's auc: 0.980603\n",
      "[1520]\tvalid_0's auc: 0.980622\n",
      "[1540]\tvalid_0's auc: 0.980641\n",
      "[1560]\tvalid_0's auc: 0.980658\n",
      "[1580]\tvalid_0's auc: 0.980677\n",
      "[1600]\tvalid_0's auc: 0.980699\n",
      "[1620]\tvalid_0's auc: 0.980715\n",
      "[1640]\tvalid_0's auc: 0.980734\n",
      "[1660]\tvalid_0's auc: 0.980757\n",
      "[1680]\tvalid_0's auc: 0.98077\n",
      "[1700]\tvalid_0's auc: 0.980782\n",
      "[1720]\tvalid_0's auc: 0.980794\n",
      "[1740]\tvalid_0's auc: 0.980809\n",
      "[1760]\tvalid_0's auc: 0.980822\n",
      "[1780]\tvalid_0's auc: 0.980836\n",
      "[1800]\tvalid_0's auc: 0.980847\n",
      "[1820]\tvalid_0's auc: 0.98086\n",
      "[1840]\tvalid_0's auc: 0.980873\n",
      "[1860]\tvalid_0's auc: 0.980884\n",
      "[1880]\tvalid_0's auc: 0.980894\n",
      "[1900]\tvalid_0's auc: 0.980905\n",
      "[1920]\tvalid_0's auc: 0.980912\n",
      "[1940]\tvalid_0's auc: 0.980922\n",
      "[1960]\tvalid_0's auc: 0.980934\n",
      "[1980]\tvalid_0's auc: 0.980942\n",
      "[2000]\tvalid_0's auc: 0.98095\n",
      "[2020]\tvalid_0's auc: 0.980957\n",
      "[2040]\tvalid_0's auc: 0.980963\n",
      "[2060]\tvalid_0's auc: 0.980973\n",
      "[2080]\tvalid_0's auc: 0.980977\n",
      "[2100]\tvalid_0's auc: 0.980987\n",
      "[2120]\tvalid_0's auc: 0.980994\n",
      "[2140]\tvalid_0's auc: 0.981001\n",
      "[2160]\tvalid_0's auc: 0.981006\n",
      "[2180]\tvalid_0's auc: 0.98101\n",
      "[2200]\tvalid_0's auc: 0.981016\n",
      "[2220]\tvalid_0's auc: 0.981022\n",
      "[2240]\tvalid_0's auc: 0.981026\n",
      "[2260]\tvalid_0's auc: 0.98103\n",
      "[2280]\tvalid_0's auc: 0.981037\n",
      "[2300]\tvalid_0's auc: 0.98104\n",
      "[2320]\tvalid_0's auc: 0.981047\n",
      "[2340]\tvalid_0's auc: 0.981054\n",
      "[2360]\tvalid_0's auc: 0.981055\n",
      "[2380]\tvalid_0's auc: 0.981058\n",
      "[2400]\tvalid_0's auc: 0.98106\n",
      "[2420]\tvalid_0's auc: 0.981064\n",
      "[2440]\tvalid_0's auc: 0.981066\n",
      "[2460]\tvalid_0's auc: 0.98107\n",
      "[2480]\tvalid_0's auc: 0.981071\n",
      "[2500]\tvalid_0's auc: 0.981069\n",
      "[2520]\tvalid_0's auc: 0.981075\n",
      "[2540]\tvalid_0's auc: 0.981075\n",
      "[2560]\tvalid_0's auc: 0.981078\n",
      "[2580]\tvalid_0's auc: 0.981082\n",
      "[2600]\tvalid_0's auc: 0.981083\n",
      "[2620]\tvalid_0's auc: 0.981085\n",
      "[2640]\tvalid_0's auc: 0.981086\n",
      "[2660]\tvalid_0's auc: 0.981089\n",
      "[2680]\tvalid_0's auc: 0.981087\n",
      "[2700]\tvalid_0's auc: 0.981086\n",
      "[2720]\tvalid_0's auc: 0.981087\n",
      "[2740]\tvalid_0's auc: 0.981087\n",
      "Early stopping, best iteration is:\n",
      "[2651]\tvalid_0's auc: 0.98109\n"
     ]
    }
   ],
   "source": [
    "#train the model with the hyper-parameters\n",
    "\n",
    "params = {'task': 'train', 'boosting_type': 'gbdt', 'objective': 'binary', 'metric': 'auc', \n",
    "          'learning_rate': 0.01, 'num_leaves': 48, 'num_iteration': 5000, 'verbose': 0 ,\n",
    "          'colsample_bytree':.8, 'subsample':.9, 'max_depth':7, 'reg_alpha':.1, 'reg_lambda':.1, \n",
    "          'min_split_gain':.01, 'min_child_weight':1}\n",
    "\n",
    "model = lgb.train(params, lgb_train, valid_sets=lgb_eval, early_stopping_rounds=100, verbose_eval=20)"
   ]
  },
  {
   "cell_type": "code",
   "execution_count": 50,
   "metadata": {},
   "outputs": [],
   "source": [
    "#saving the model\n",
    "filename = 'finalized_model.sav'\n",
    "pickle.dump(model, open(filename, 'wb'))"
   ]
  },
  {
   "cell_type": "code",
   "execution_count": 51,
   "metadata": {},
   "outputs": [],
   "source": [
    "# load the model from disk\n",
    "#loaded_model = pickle.load(open(filename, 'rb'))"
   ]
  },
  {
   "cell_type": "code",
   "execution_count": null,
   "metadata": {},
   "outputs": [],
   "source": []
  }
 ],
 "metadata": {
  "kernelspec": {
   "display_name": "Python 3",
   "language": "python",
   "name": "python3"
  },
  "language_info": {
   "codemirror_mode": {
    "name": "ipython",
    "version": 3
   },
   "file_extension": ".py",
   "mimetype": "text/x-python",
   "name": "python",
   "nbconvert_exporter": "python",
   "pygments_lexer": "ipython3",
   "version": "3.6.5"
  }
 },
 "nbformat": 4,
 "nbformat_minor": 4
}
